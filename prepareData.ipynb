{
 "cells": [
  {
   "cell_type": "code",
   "execution_count": 7,
   "id": "fa634ae1",
   "metadata": {},
   "outputs": [
    {
     "name": "stdout",
     "output_type": "stream",
     "text": [
      "Requirement already satisfied: ultralytics in /home/deeplearningtitan/anaconda3/envs/dsu/lib/python3.10/site-packages (8.1.23)\n",
      "Requirement already satisfied: matplotlib>=3.3.0 in /home/deeplearningtitan/anaconda3/envs/dsu/lib/python3.10/site-packages (from ultralytics) (3.7.1)\n",
      "Requirement already satisfied: opencv-python>=4.6.0 in /home/deeplearningtitan/anaconda3/envs/dsu/lib/python3.10/site-packages (from ultralytics) (4.9.0.80)\n",
      "Requirement already satisfied: pillow>=7.1.2 in /home/deeplearningtitan/anaconda3/envs/dsu/lib/python3.10/site-packages (from ultralytics) (10.2.0)\n",
      "Requirement already satisfied: pyyaml>=5.3.1 in /home/deeplearningtitan/anaconda3/envs/dsu/lib/python3.10/site-packages (from ultralytics) (6.0)\n",
      "Requirement already satisfied: requests>=2.23.0 in /home/deeplearningtitan/anaconda3/envs/dsu/lib/python3.10/site-packages (from ultralytics) (2.30.0)\n",
      "Requirement already satisfied: scipy>=1.4.1 in /home/deeplearningtitan/anaconda3/envs/dsu/lib/python3.10/site-packages (from ultralytics) (1.10.1)\n",
      "Requirement already satisfied: torch>=1.8.0 in /home/deeplearningtitan/anaconda3/envs/dsu/lib/python3.10/site-packages (from ultralytics) (2.2.1)\n",
      "Requirement already satisfied: torchvision>=0.9.0 in /home/deeplearningtitan/anaconda3/envs/dsu/lib/python3.10/site-packages (from ultralytics) (0.17.1)\n",
      "Requirement already satisfied: tqdm>=4.64.0 in /home/deeplearningtitan/anaconda3/envs/dsu/lib/python3.10/site-packages (from ultralytics) (4.66.2)\n",
      "Requirement already satisfied: psutil in /home/deeplearningtitan/anaconda3/envs/dsu/lib/python3.10/site-packages (from ultralytics) (5.9.5)\n",
      "Requirement already satisfied: py-cpuinfo in /home/deeplearningtitan/anaconda3/envs/dsu/lib/python3.10/site-packages (from ultralytics) (9.0.0)\n",
      "Requirement already satisfied: thop>=0.1.1 in /home/deeplearningtitan/anaconda3/envs/dsu/lib/python3.10/site-packages (from ultralytics) (0.1.1.post2209072238)\n",
      "Requirement already satisfied: pandas>=1.1.4 in /home/deeplearningtitan/anaconda3/envs/dsu/lib/python3.10/site-packages (from ultralytics) (1.5.0)\n",
      "Requirement already satisfied: seaborn>=0.11.0 in /home/deeplearningtitan/anaconda3/envs/dsu/lib/python3.10/site-packages (from ultralytics) (0.12.2)\n",
      "Requirement already satisfied: contourpy>=1.0.1 in /home/deeplearningtitan/anaconda3/envs/dsu/lib/python3.10/site-packages (from matplotlib>=3.3.0->ultralytics) (1.0.7)\n",
      "Requirement already satisfied: cycler>=0.10 in /home/deeplearningtitan/anaconda3/envs/dsu/lib/python3.10/site-packages (from matplotlib>=3.3.0->ultralytics) (0.11.0)\n",
      "Requirement already satisfied: fonttools>=4.22.0 in /home/deeplearningtitan/anaconda3/envs/dsu/lib/python3.10/site-packages (from matplotlib>=3.3.0->ultralytics) (4.39.3)\n",
      "Requirement already satisfied: kiwisolver>=1.0.1 in /home/deeplearningtitan/anaconda3/envs/dsu/lib/python3.10/site-packages (from matplotlib>=3.3.0->ultralytics) (1.4.4)\n",
      "Requirement already satisfied: numpy>=1.20 in /home/deeplearningtitan/anaconda3/envs/dsu/lib/python3.10/site-packages (from matplotlib>=3.3.0->ultralytics) (1.24.3)\n",
      "Requirement already satisfied: packaging>=20.0 in /home/deeplearningtitan/anaconda3/envs/dsu/lib/python3.10/site-packages (from matplotlib>=3.3.0->ultralytics) (23.1)\n",
      "Requirement already satisfied: pyparsing>=2.3.1 in /home/deeplearningtitan/anaconda3/envs/dsu/lib/python3.10/site-packages (from matplotlib>=3.3.0->ultralytics) (3.0.9)\n",
      "Requirement already satisfied: python-dateutil>=2.7 in /home/deeplearningtitan/anaconda3/envs/dsu/lib/python3.10/site-packages (from matplotlib>=3.3.0->ultralytics) (2.8.2)\n",
      "Requirement already satisfied: pytz>=2020.1 in /home/deeplearningtitan/anaconda3/envs/dsu/lib/python3.10/site-packages (from pandas>=1.1.4->ultralytics) (2023.3)\n",
      "Requirement already satisfied: charset-normalizer<4,>=2 in /home/deeplearningtitan/anaconda3/envs/dsu/lib/python3.10/site-packages (from requests>=2.23.0->ultralytics) (3.1.0)\n",
      "Requirement already satisfied: idna<4,>=2.5 in /home/deeplearningtitan/anaconda3/envs/dsu/lib/python3.10/site-packages (from requests>=2.23.0->ultralytics) (3.4)\n",
      "Requirement already satisfied: urllib3<3,>=1.21.1 in /home/deeplearningtitan/anaconda3/envs/dsu/lib/python3.10/site-packages (from requests>=2.23.0->ultralytics) (1.26.16)\n",
      "Requirement already satisfied: certifi>=2017.4.17 in /home/deeplearningtitan/anaconda3/envs/dsu/lib/python3.10/site-packages (from requests>=2.23.0->ultralytics) (2022.12.7)\n",
      "Requirement already satisfied: filelock in /home/deeplearningtitan/anaconda3/envs/dsu/lib/python3.10/site-packages (from torch>=1.8.0->ultralytics) (3.13.1)\n",
      "Requirement already satisfied: typing-extensions>=4.8.0 in /home/deeplearningtitan/anaconda3/envs/dsu/lib/python3.10/site-packages (from torch>=1.8.0->ultralytics) (4.10.0)\n",
      "Requirement already satisfied: sympy in /home/deeplearningtitan/anaconda3/envs/dsu/lib/python3.10/site-packages (from torch>=1.8.0->ultralytics) (1.12)\n",
      "Requirement already satisfied: networkx in /home/deeplearningtitan/anaconda3/envs/dsu/lib/python3.10/site-packages (from torch>=1.8.0->ultralytics) (3.2.1)\n",
      "Requirement already satisfied: jinja2 in /home/deeplearningtitan/anaconda3/envs/dsu/lib/python3.10/site-packages (from torch>=1.8.0->ultralytics) (3.1.2)\n",
      "Requirement already satisfied: fsspec in /home/deeplearningtitan/anaconda3/envs/dsu/lib/python3.10/site-packages (from torch>=1.8.0->ultralytics) (2024.2.0)\n",
      "Requirement already satisfied: nvidia-cuda-nvrtc-cu12==12.1.105 in /home/deeplearningtitan/anaconda3/envs/dsu/lib/python3.10/site-packages (from torch>=1.8.0->ultralytics) (12.1.105)\n",
      "Requirement already satisfied: nvidia-cuda-runtime-cu12==12.1.105 in /home/deeplearningtitan/anaconda3/envs/dsu/lib/python3.10/site-packages (from torch>=1.8.0->ultralytics) (12.1.105)\n",
      "Requirement already satisfied: nvidia-cuda-cupti-cu12==12.1.105 in /home/deeplearningtitan/anaconda3/envs/dsu/lib/python3.10/site-packages (from torch>=1.8.0->ultralytics) (12.1.105)\n",
      "Requirement already satisfied: nvidia-cudnn-cu12==8.9.2.26 in /home/deeplearningtitan/anaconda3/envs/dsu/lib/python3.10/site-packages (from torch>=1.8.0->ultralytics) (8.9.2.26)\n",
      "Requirement already satisfied: nvidia-cublas-cu12==12.1.3.1 in /home/deeplearningtitan/anaconda3/envs/dsu/lib/python3.10/site-packages (from torch>=1.8.0->ultralytics) (12.1.3.1)\n",
      "Requirement already satisfied: nvidia-cufft-cu12==11.0.2.54 in /home/deeplearningtitan/anaconda3/envs/dsu/lib/python3.10/site-packages (from torch>=1.8.0->ultralytics) (11.0.2.54)\n",
      "Requirement already satisfied: nvidia-curand-cu12==10.3.2.106 in /home/deeplearningtitan/anaconda3/envs/dsu/lib/python3.10/site-packages (from torch>=1.8.0->ultralytics) (10.3.2.106)\n",
      "Requirement already satisfied: nvidia-cusolver-cu12==11.4.5.107 in /home/deeplearningtitan/anaconda3/envs/dsu/lib/python3.10/site-packages (from torch>=1.8.0->ultralytics) (11.4.5.107)\n",
      "Requirement already satisfied: nvidia-cusparse-cu12==12.1.0.106 in /home/deeplearningtitan/anaconda3/envs/dsu/lib/python3.10/site-packages (from torch>=1.8.0->ultralytics) (12.1.0.106)\n",
      "Requirement already satisfied: nvidia-nccl-cu12==2.19.3 in /home/deeplearningtitan/anaconda3/envs/dsu/lib/python3.10/site-packages (from torch>=1.8.0->ultralytics) (2.19.3)\n",
      "Requirement already satisfied: nvidia-nvtx-cu12==12.1.105 in /home/deeplearningtitan/anaconda3/envs/dsu/lib/python3.10/site-packages (from torch>=1.8.0->ultralytics) (12.1.105)\n",
      "Requirement already satisfied: triton==2.2.0 in /home/deeplearningtitan/anaconda3/envs/dsu/lib/python3.10/site-packages (from torch>=1.8.0->ultralytics) (2.2.0)\n",
      "Requirement already satisfied: nvidia-nvjitlink-cu12 in /home/deeplearningtitan/anaconda3/envs/dsu/lib/python3.10/site-packages (from nvidia-cusolver-cu12==11.4.5.107->torch>=1.8.0->ultralytics) (12.3.101)\n",
      "Requirement already satisfied: six>=1.5 in /home/deeplearningtitan/anaconda3/envs/dsu/lib/python3.10/site-packages (from python-dateutil>=2.7->matplotlib>=3.3.0->ultralytics) (1.16.0)\n",
      "Requirement already satisfied: MarkupSafe>=2.0 in /home/deeplearningtitan/anaconda3/envs/dsu/lib/python3.10/site-packages (from jinja2->torch>=1.8.0->ultralytics) (2.1.2)\n",
      "Requirement already satisfied: mpmath>=0.19 in /home/deeplearningtitan/anaconda3/envs/dsu/lib/python3.10/site-packages (from sympy->torch>=1.8.0->ultralytics) (1.3.0)\n",
      "Requirement already satisfied: opencv-python in /home/deeplearningtitan/anaconda3/envs/dsu/lib/python3.10/site-packages (4.9.0.80)\n",
      "Requirement already satisfied: numpy>=1.21.2 in /home/deeplearningtitan/anaconda3/envs/dsu/lib/python3.10/site-packages (from opencv-python) (1.24.3)\n",
      "Requirement already satisfied: Pillow in /home/deeplearningtitan/anaconda3/envs/dsu/lib/python3.10/site-packages (10.2.0)\n",
      "Requirement already satisfied: mega.py in /home/deeplearningtitan/anaconda3/envs/dsu/lib/python3.10/site-packages (1.0.8)\n",
      "Requirement already satisfied: requests>=0.10 in /home/deeplearningtitan/anaconda3/envs/dsu/lib/python3.10/site-packages (from mega.py) (2.30.0)\n",
      "Requirement already satisfied: pycryptodome<4.0.0,>=3.9.6 in /home/deeplearningtitan/anaconda3/envs/dsu/lib/python3.10/site-packages (from mega.py) (3.20.0)\n",
      "Requirement already satisfied: pathlib==1.0.1 in /home/deeplearningtitan/anaconda3/envs/dsu/lib/python3.10/site-packages (from mega.py) (1.0.1)\n",
      "Requirement already satisfied: tenacity<6.0.0,>=5.1.5 in /home/deeplearningtitan/anaconda3/envs/dsu/lib/python3.10/site-packages (from mega.py) (5.1.5)\n",
      "Requirement already satisfied: charset-normalizer<4,>=2 in /home/deeplearningtitan/anaconda3/envs/dsu/lib/python3.10/site-packages (from requests>=0.10->mega.py) (3.1.0)\n",
      "Requirement already satisfied: idna<4,>=2.5 in /home/deeplearningtitan/anaconda3/envs/dsu/lib/python3.10/site-packages (from requests>=0.10->mega.py) (3.4)\n",
      "Requirement already satisfied: urllib3<3,>=1.21.1 in /home/deeplearningtitan/anaconda3/envs/dsu/lib/python3.10/site-packages (from requests>=0.10->mega.py) (1.26.16)\n",
      "Requirement already satisfied: certifi>=2017.4.17 in /home/deeplearningtitan/anaconda3/envs/dsu/lib/python3.10/site-packages (from requests>=0.10->mega.py) (2022.12.7)\n",
      "Requirement already satisfied: six>=1.9.0 in /home/deeplearningtitan/anaconda3/envs/dsu/lib/python3.10/site-packages (from tenacity<6.0.0,>=5.1.5->mega.py) (1.16.0)\n"
     ]
    }
   ],
   "source": [
    "!pip install ultralytics\n",
    "!pip3 install opencv-python\n",
    "!python3 -m pip install --upgrade Pillow\n",
    "!pip install mega.py\n",
    "\n",
    "import numpy as np\n",
    "import cv2\n",
    "import os\n",
    "\n"
   ]
  },
  {
   "cell_type": "code",
   "execution_count": 2,
   "id": "8f4b169d",
   "metadata": {},
   "outputs": [
    {
     "name": "stdout",
     "output_type": "stream",
     "text": [
      "Downloading ...\n",
      "DONE\n"
     ]
    }
   ],
   "source": [
    "from mega import Mega\n",
    "import zipfile\n",
    "\n",
    "mega = Mega()\n",
    "m = mega.login()\n",
    "print(\"Downloading ...\")\n",
    "try:\n",
    "    m.download_url('https://mega.nz/file/1Dg0iaAA#0ZRzdon9F7j0jiCjWHfUh-JNoxw5zfcmzceKrh_VySo')\n",
    "except PermissionError:\n",
    "    pass\n",
    "with zipfile.ZipFile(\"171.zip\",\"r\") as zip_ref:\n",
    "    zip_ref.extractall(\"scss-net-data\")\n",
    "# try:\n",
    "#     m.download_url('https://mega.nz/file/sOBGiTwR#fjvzvxoLDFDKLv8EtLPBGqPUCo_T_I7y8f14n4eGu94')\n",
    "# except PermissionError:\n",
    "#     pass\n",
    "# with zipfile.ZipFile(\"193.zip\",\"r\") as zip_ref:\n",
    "#     zip_ref.extractall(\"scss-net-data\")\n",
    "print(\"DONE\")"
   ]
  },
  {
   "cell_type": "code",
   "execution_count": 8,
   "id": "b8e8ba50",
   "metadata": {},
   "outputs": [],
   "source": [
    "# move ch data\n",
    "!mkdir -p data/ch-train\\(zooniverse\\)\n",
    "!mkdir -p data/ch-train\\(region_growth\\)\n",
    "!mkdir -p data/ch-test\\(spoca\\)\n",
    "!mkdir -p data/ch-test\\(region_growth\\)\n",
    "\n",
    "!cp -r scss-net-data/193_train/193\\(zooniverse\\)/imgs data/ch-train\\(zooniverse\\)/images \n",
    "!cp -r scss-net-data/193_train/193\\(zooniverse\\)/masks data/ch-train\\(zooniverse\\)/masks\n",
    "\n",
    "!cp -r scss-net-data/193_train/193\\(region_growth\\)/imgs data/ch-train\\(region_growth\\)/images\n",
    "!cp -r scss-net-data/193_train/193\\(region_growth\\)/masks data/ch-train\\(region_growth\\)/masks\n",
    "\n",
    "!cp -r scss-net-data/193_test/masks\\(spoca\\) data/ch-test\\(spoca\\)/masks\n",
    "!cp -r scss-net-data/193_test/masks\\(region\\) data/ch-test\\(region_growth\\)/masks\n",
    "\n",
    "!cp -r scss-net-data/193_test/imgs data/ch-test\\(spoca\\)/images\n",
    "!cp -r scss-net-data/193_test/imgs data/ch-test\\(region_growth\\)/images"
   ]
  },
  {
   "cell_type": "code",
   "execution_count": 3,
   "id": "cd04def9",
   "metadata": {},
   "outputs": [],
   "source": [
    "# move ar data\n",
    "!mkdir -p data/ar-train\n",
    "!mkdir -p data/ar-test\n",
    "\n",
    "!cp -r scss-net-data/171_train/171\\(spoca\\)/imgs/. data/ar-train/images \n",
    "!cp -r scss-net-data/171_train/171\\(spoca\\)/masks/. data/ar-train/masks\n",
    "\n",
    "!cp -r scss-net-data/171_train/171\\(zooniverse\\)/imgs/. data/ar-train/images\n",
    "!cp -r scss-net-data/171_train/171\\(zooniverse\\)/masks/. data/ar-train/masks\n",
    "\n",
    "!cp -r scss-net-data/171_test/imgs/. data/ar-test/images \n",
    "!cp -r scss-net-data/171_test/masks\\(spoca\\)/. data/ar-test/masks"
   ]
  },
  {
   "cell_type": "code",
   "execution_count": 10,
   "id": "e4cb2fa6",
   "metadata": {},
   "outputs": [],
   "source": [
    "def create_contours(mask):\n",
    "    \n",
    "    width = mask.shape[1]\n",
    "    height = mask.shape[0]\n",
    "    # ret, thresh = cv2.threshold(mask, 127, 255, 0)\n",
    "    contours, _ = cv2.findContours(mask, cv2.RETR_TREE, cv2.CHAIN_APPROX_NONE)\n",
    "    \n",
    "    coords = []\n",
    "    for i, object in enumerate(contours):\n",
    "        coords.append([])\n",
    "        for point in object:\n",
    "            new_x = (int(point[0][0])) / (width)\n",
    "            new_y = (int(point[0][1])) / (height)\n",
    "            coords[i].append((new_x, new_y))\n",
    "    return coords"
   ]
  },
  {
   "cell_type": "code",
   "execution_count": 11,
   "id": "8af6c1c2",
   "metadata": {},
   "outputs": [],
   "source": [
    "def convert_to_yolo(folder_path):\n",
    "    masks_path = os.path.join(folder_path, 'masks')\n",
    "    os.mkdir(os.path.join(folder_path, 'labels'))\n",
    "    labels_path = os.path.join(folder_path, 'labels')\n",
    "\n",
    "    png_files = [file for file in os.listdir(masks_path) if file.endswith('.png')]\n",
    "\n",
    "    for png_file in png_files:\n",
    "        input_path = os.path.join(masks_path, png_file)\n",
    "\n",
    "        image_cv2 = cv2.imread(input_path, cv2.IMREAD_GRAYSCALE)\n",
    "\n",
    "        coords_of_objects = create_contours(image_cv2)\n",
    "    \n",
    "        txt_file = os.path.splitext(png_file)[0] + '.txt'\n",
    "        output_path = os.path.join(labels_path, txt_file)\n",
    "\n",
    "        with open(output_path, 'w') as label_file:\n",
    "            for i, object_coords in enumerate(coords_of_objects):\n",
    "                coordinates_str = ' '.join(map(str, np.reshape(object_coords, -1)))\n",
    "                string_to_write = f\"0 {coordinates_str}\"\n",
    "                if i < (len(coords_of_objects) - 1):\n",
    "                    string_to_write += \"\\n\"\n",
    "                label_file.write(string_to_write)"
   ]
  },
  {
   "cell_type": "code",
   "execution_count": 12,
   "id": "13252976",
   "metadata": {},
   "outputs": [],
   "source": [
    "import cv2\n",
    "from PIL import Image\n",
    "\n",
    "def display_label(label_name):\n",
    "    image = cv2.imread(\"./data/train(region_growth)/images/\"+label_name+\".png\")\n",
    "\n",
    "    with open(\"./data/train(region_growth)/labels/\" + label_name + \".txt\", 'r') as f:\n",
    "        label = f.read()\n",
    "\n",
    "    label_elements = label.strip().split(' ')\n",
    "\n",
    "    coords = [(int(float(label_elements[i])*256), int(float(label_elements[i+1])*256)) for i in range(1, len(label_elements), 2)]\n",
    "   \n",
    "    for coord in coords:\n",
    "        cv2.circle(image, coord, radius=0, color=(255, 0, 0), thickness=-1)\n",
    "   \n",
    "    cv2.imwrite(\"./test.png\", image)\n"
   ]
  },
  {
   "cell_type": "code",
   "execution_count": 13,
   "id": "9a258e9a",
   "metadata": {},
   "outputs": [],
   "source": [
    "import cv2\n",
    "   \n",
    "def convert_to_grayscale(folder_path):\n",
    "    images_path = os.path.join(folder_path, 'images')\n",
    "    grayscale_images_path = os.path.join(folder_path, 'images-gray')\n",
    "    os.makedirs(grayscale_images_path)\n",
    "    \n",
    "    png_files = [file for file in os.listdir(images_path) if file.endswith('.png')]\n",
    "    \n",
    "    for img_path in png_files:\n",
    "        image = cv2.imread(images_path + \"/\" + img_path)\n",
    "        gray_image = cv2.cvtColor(image, cv2.COLOR_BGR2GRAY) \n",
    "        cv2.imwrite(grayscale_images_path + \"/\" + img_path, gray_image)\n",
    "\n",
    "        \n",
    "        "
   ]
  },
  {
   "cell_type": "code",
   "execution_count": 14,
   "id": "00be2929",
   "metadata": {},
   "outputs": [],
   "source": [
    "from pathlib import Path\n",
    "\n",
    "def remove_invalid_labels_with_images(data_path):\n",
    "    images_path = os.path.join(data_path, 'images')\n",
    "    labels_path = os.path.join(data_path, 'labels')\n",
    "\n",
    "    txt_files = [file for file in os.listdir(labels_path) if file.endswith('.txt')]\n",
    "    \n",
    "    for txt_file in txt_files:\n",
    "        with open(labels_path +\"/\"+ txt_file, 'r') as f:\n",
    "            label = f.read()\n",
    "            png_file = os.path.splitext(txt_file)[0] + '.png'\n",
    "            if(len(label.split()) < 5):\n",
    "                print(\"removing... \" + png_file)\n",
    "                Path(images_path+\"/\" + png_file).unlink()\n",
    "                print(\"removing... \" + txt_file)\n",
    "                Path(labels_path+\"/\" + txt_file).unlink()\n",
    "        \n",
    "            "
   ]
  },
  {
   "cell_type": "code",
   "execution_count": 9,
   "id": "7197d42a",
   "metadata": {},
   "outputs": [],
   "source": [
    "# convert_to_yolo(\"./data/ch-train(region_growth)\")\n",
    "# convert_to_yolo(\"./data/ch-test(region_growth)\")\n",
    "convert_to_yolo(\"./data/ar-train\")\n",
    "convert_to_yolo(\"./data/ar-test\")"
   ]
  },
  {
   "cell_type": "code",
   "execution_count": 10,
   "id": "879d2aa8",
   "metadata": {},
   "outputs": [
    {
     "name": "stdout",
     "output_type": "stream",
     "text": [
      "removing... 2016_09_06__22_59_46_35__SDO_AIA_AIA_171.png\n",
      "removing... 2016_09_06__22_59_46_35__SDO_AIA_AIA_171.txt\n",
      "removing... 2016_05_24__22_59_58_34__SDO_AIA_AIA_171.png\n",
      "removing... 2016_05_24__22_59_58_34__SDO_AIA_AIA_171.txt\n",
      "removing... 2016_05_03__23_00_10_34__SDO_AIA_AIA_171.png\n",
      "removing... 2016_05_03__23_00_10_34__SDO_AIA_AIA_171.txt\n",
      "removing... 2016_08_02__11_30_46_34__SDO_AIA_AIA_171.png\n",
      "removing... 2016_08_02__11_30_46_34__SDO_AIA_AIA_171.txt\n"
     ]
    }
   ],
   "source": [
    "# remove_invalid_labels_with_images(\"./data/ch-train(region_growth)\")\n",
    "# remove_invalid_labels_with_images(\"./data/ch-test(region_growth)\")\n",
    "remove_invalid_labels_with_images(\"./data/ar-train\")\n",
    "remove_invalid_labels_with_images(\"./data/ar-test\")"
   ]
  },
  {
   "cell_type": "code",
   "execution_count": 15,
   "id": "e4aeb9e1",
   "metadata": {},
   "outputs": [],
   "source": [
    "import math\n",
    "import os\n",
    "import random\n",
    "import shutil\n",
    "\n",
    "def move_files(paths_list, dst_directory):\n",
    "    for path in paths_list:\n",
    "        src_path = path\n",
    "        dst_path = os.path.join(dst_directory, os.path.basename(path))\n",
    "        shutil.copyfile(src_path, dst_path)\n",
    "        os.remove(src_path)\n",
    "\n",
    "\n",
    "def generate_val_set(train_path, val_path, percent=0.1):\n",
    "    images_path = os.path.join(train_path, \"images\")\n",
    "    test_images_path = os.path.join(val_path, \"images\")\n",
    "    test_labels_path = os.path.join(val_path, \"labels\")\n",
    "    test_masks_path = os.path.join(val_path, \"masks\")\n",
    "    os.makedirs(test_images_path, exist_ok=True)\n",
    "    os.makedirs(test_labels_path, exist_ok=True)\n",
    "    os.makedirs(test_masks_path, exist_ok=True)\n",
    "\n",
    "    image_paths = []\n",
    "    for root, _, files in os.walk(images_path):\n",
    "        for file in files:\n",
    "            if file.endswith(\".png\"):\n",
    "                image_paths.append(os.path.join(root, file))\n",
    "\n",
    "    random.shuffle(image_paths)\n",
    "\n",
    "    test_num = math.floor(len(image_paths)*percent)\n",
    "    test_images = image_paths[:test_num]\n",
    "    test_labels = [path.replace(\"images\",\"labels\").replace(\"png\", \"txt\") for path in test_images]\n",
    "    test_masks = [path.replace(\"images\",\"masks\") for path in test_images]\n",
    "\n",
    "    move_files(test_images, test_images_path)\n",
    "    move_files(test_labels, test_labels_path)\n",
    "    move_files(test_masks, test_masks_path)"
   ]
  },
  {
   "cell_type": "code",
   "execution_count": 12,
   "id": "646423e8",
   "metadata": {},
   "outputs": [],
   "source": [
    "# generate_val_set(\"data/ch-train(region_growth)\", \"data/ch-val(region_growth)\")\n",
    "generate_val_set(\"data/ar-train\", \"data/ar-val\")"
   ]
  },
  {
   "cell_type": "code",
   "execution_count": 14,
   "id": "fd22536f-6c5f-42d9-9bd7-172fa9c7b3af",
   "metadata": {},
   "outputs": [],
   "source": [
    "convert_to_grayscale(\"./data/ar-train\")\n",
    "convert_to_grayscale(\"./data/ar-test\")\n",
    "convert_to_grayscale(\"./data/ar-val\")"
   ]
  },
  {
   "cell_type": "code",
   "execution_count": 8,
   "id": "a531a532-6f34-490b-acc3-ca18df911d8c",
   "metadata": {
    "tags": []
   },
   "outputs": [],
   "source": [
    "# prepare SOHO dataset\n",
    "# install mega-cmd https://mega.io/cmd#downloadapps\n",
    "import zipfile\n",
    "\n",
    "os.chdir('/dev/bakalarka-yolo/') # needed if no memory on device"
   ]
  },
  {
   "cell_type": "code",
   "execution_count": 6,
   "id": "d9c40dd3-cdc8-4b16-baab-1c0c5ada1e1b",
   "metadata": {
    "tags": []
   },
   "outputs": [
    {
     "name": "stdout",
     "output_type": "stream",
     "text": [
      "[API:err: 21:07:48] Failed to get account details: Access denied\n",
      "Transfer not started. \n",
      "You have reached your bandwith quota. To circumvent this limit, you can upgrade to Pro, which will give you your own bandwidth package and also ample extra storage space. Alternatively, you can try again in 45 minutes.\n",
      "See \"help --upgrade\" for further details\n",
      "Use --ignore-quota-warn to initiate nevertheless\n",
      "[API:err: 21:07:48] Failed to get account details: Access denied\n",
      "Transfer not started. \n",
      "You have reached your bandwith quota. To circumvent this limit, you can upgrade to Pro, which will give you your own bandwidth package and also ample extra storage space. Alternatively, you can try again in 45 minutes.\n",
      "See \"help --upgrade\" for further details\n",
      "Use --ignore-quota-warn to initiate nevertheless\n",
      "[API:err: 21:07:49] Failed to get account details: Access denied\n",
      "Transfer not started. \n",
      "You have reached your bandwith quota. To circumvent this limit, you can upgrade to Pro, which will give you your own bandwidth package and also ample extra storage space. Alternatively, you can try again in 45 minutes.\n",
      "See \"help --upgrade\" for further details\n",
      "Use --ignore-quota-warn to initiate nevertheless\n",
      "[API:err: 21:07:49] Failed to get account details: Access denied\n",
      "Transfer not started. \n",
      "You have reached your bandwith quota. To circumvent this limit, you can upgrade to Pro, which will give you your own bandwidth package and also ample extra storage space. Alternatively, you can try again in 45 minutes.\n",
      "See \"help --upgrade\" for further details\n",
      "Use --ignore-quota-warn to initiate nevertheless\n"
     ]
    }
   ],
   "source": [
    "# ch test imgs\n",
    "!mega-get https://mega.nz/folder/M9klWZxK#QbxQMxVMCMtXS6nNzCtE7A/file/o4Nk0D7I\n",
    "# ch test masks\n",
    "!mega-get https://mega.nz/folder/M9klWZxK#QbxQMxVMCMtXS6nNzCtE7A/file/5lEAwRjA\n",
    "# ch train imgs\n",
    "!mega-get https://mega.nz/folder/M9klWZxK#QbxQMxVMCMtXS6nNzCtE7A/file/MkcSiJwI \n",
    "# ch train masks\n",
    "!mega-get https://mega.nz/folder/M9klWZxK#QbxQMxVMCMtXS6nNzCtE7A/file/skMUnDyL "
   ]
  },
  {
   "cell_type": "code",
   "execution_count": 15,
   "id": "45eaeb71-f230-4d35-9675-6be3bfa1475b",
   "metadata": {
    "tags": []
   },
   "outputs": [
    {
     "name": "stdout",
     "output_type": "stream",
     "text": [
      "TRANSFERRING ||######################################||(695/695 MB: 100.00 %) \u0000\n",
      "Download finished: /dev/bakalarka-yolo/./AR_test_imgs.zip\n",
      "TRANSFERRING ||######################################||(695/695 MB: 100.00 %) \u0000\n",
      "TRANSFERRING ||##########################################||(4/4 MB: 100.00 %) \u0000\n",
      "Download finished: /dev/bakalarka-yolo/./AR_test_masks.zip\n",
      "TRANSFERRING ||##########################################||(4/4 MB: 100.00 %) \u0000\n",
      "TRANSFERRING ||####################################||(2784/2784 MB: 100.00 %) \u0000\n",
      "Download finished: /dev/bakalarka-yolo/./AR_train_imgs.zip\n",
      "TRANSFERRING ||####################################||(2784/2784 MB: 100.00 %) \u0000\n",
      "TRANSFERRING ||########################################||(17/17 MB: 100.00 %) \u0000\n",
      "Download finished: /dev/bakalarka-yolo/./AR_train_masks.zip\n",
      "TRANSFERRING ||########################################||(17/17 MB: 100.00 %) \u0000\n"
     ]
    }
   ],
   "source": [
    "\n",
    "# ar test imgs\n",
    "!mega-get https://mega.nz/folder/M9klWZxK#QbxQMxVMCMtXS6nNzCtE7A/file/kg1nzAxJ\n",
    "# ar test masks\n",
    "!mega-get https://mega.nz/folder/M9klWZxK#QbxQMxVMCMtXS6nNzCtE7A/file/Z8111I6C\n",
    "# ar train imgs\n",
    "!mega-get https://mega.nz/folder/M9klWZxK#QbxQMxVMCMtXS6nNzCtE7A/file/c19RwY4Q\n",
    "# ar train masks\n",
    "!mega-get https://mega.nz/folder/M9klWZxK#QbxQMxVMCMtXS6nNzCtE7A/file/I18TSaTb"
   ]
  },
  {
   "cell_type": "code",
   "execution_count": 17,
   "id": "e94e6bff",
   "metadata": {
    "tags": []
   },
   "outputs": [],
   "source": [
    "!mkdir -p data/ch-test\\(SOHO\\)\n",
    "!mkdir -p data/ch-train\\(SOHO\\)\n",
    "with zipfile.ZipFile(\"CH_test_imgs.zip\",\"r\") as zip_ref:\n",
    "    zip_ref.extractall(\"data/ch-test(SOHO)\")\n",
    "\n",
    "!mv data/ch-test\\(SOHO\\)/test_imgs data/ch-test\\(SOHO\\)/images\n",
    "    \n",
    "with zipfile.ZipFile(\"CH_test_masks.zip\",\"r\") as zip_ref:\n",
    "    zip_ref.extractall(\"data/ch-test(SOHO)\")\n",
    "\n",
    "!mv data/ch-test\\(SOHO\\)/test_masks data/ch-test\\(SOHO\\)/masks\n",
    "    \n",
    "with zipfile.ZipFile(\"CH_train_imgs.zip\",\"r\") as zip_ref:\n",
    "    zip_ref.extractall(\"data/ch-train(SOHO)\")\n",
    "\n",
    "!mv data/ch-train\\(SOHO\\)/train_imgs data/ch-train\\(SOHO\\)/images\n",
    "\n",
    "with zipfile.ZipFile(\"CH_train_masks.zip\",\"r\") as zip_ref:\n",
    "    zip_ref.extractall(\"data/ch-train(SOHO)\")\n",
    "\n",
    "!mv data/ch-train\\(SOHO\\)/train_masks data/ch-train\\(SOHO\\)/masks\n",
    "\n",
    "convert_to_yolo(\"./data/ch-test(SOHO)\")\n",
    "remove_invalid_labels_with_images(\"./data/ch-test(SOHO)\")\n",
    "convert_to_grayscale(\"./data/ch-test(SOHO)\")\n",
    "!mv data/ch-test\\(SOHO\\)/images data/ch-test\\(SOHO\\)/images-col\n",
    "!mv data/ch-test\\(SOHO\\)/images-gray data/ch-test\\(SOHO\\)/images\n",
    "\n",
    "convert_to_yolo(\"./data/ch-train(SOHO)\")\n",
    "remove_invalid_labels_with_images(\"./data/ch-train(SOHO)\")\n",
    "convert_to_grayscale(\"./data/ch-train(SOHO)\")\n",
    "!mv data/ch-train\\(SOHO\\)/images data/ch-train\\(SOHO\\)/images-col\n",
    "!mv data/ch-train\\(SOHO\\)/images-gray data/ch-train\\(SOHO\\)/images\n",
    "\n",
    "generate_val_set(\"data/ch-train(SOHO)\", \"data/ch-val(SOHO)\", 0.2)"
   ]
  },
  {
   "cell_type": "code",
   "execution_count": 16,
   "id": "459e9330-016b-45c7-9e2c-bb6dc784b03e",
   "metadata": {
    "tags": []
   },
   "outputs": [
    {
     "name": "stderr",
     "output_type": "stream",
     "text": [
      "\n",
      "KeyboardInterrupt\n",
      "\n"
     ]
    }
   ],
   "source": [
    "!mkdir -p data/ar-test\\(SOHO\\)\n",
    "!mkdir -p data/ar-train\\(SOHO\\)\n",
    "with zipfile.ZipFile(\"AR_test_imgs.zip\",\"r\") as zip_ref:\n",
    "    zip_ref.extractall(\"data/ar-test(SOHO)\")\n",
    "\n",
    "!mv data/ar-test\\(SOHO\\)/ARtest_imgs data/ar-test\\(SOHO\\)/images\n",
    "    \n",
    "with zipfile.ZipFile(\"AR_test_masks.zip\",\"r\") as zip_ref:\n",
    "    zip_ref.extractall(\"data/ar-test(SOHO)\")\n",
    "\n",
    "!mv data/ar-test\\(SOHO\\)/ARtest_masks data/ar-test\\(SOHO\\)/masks\n",
    "    \n",
    "with zipfile.ZipFile(\"AR_train_imgs.zip\",\"r\") as zip_ref:\n",
    "    zip_ref.extractall(\"data/ar-train(SOHO)\")\n",
    "\n",
    "!mv data/ar-train\\(SOHO\\)/ARtrain_imgs data/ar-train\\(SOHO\\)/images\n",
    "\n",
    "with zipfile.ZipFile(\"AR_train_masks.zip\",\"r\") as zip_ref:\n",
    "    zip_ref.extractall(\"data/ar-train(SOHO)\")\n",
    "\n",
    "!mv data/ar-train\\(SOHO\\)/ARtrain_masks data/ar-train\\(SOHO\\)/masks\n",
    "\n",
    "convert_to_yolo(\"./data/ar-test(SOHO)\")\n",
    "remove_invalid_labels_with_images(\"./data/ar-test(SOHO)\")\n",
    "convert_to_grayscale(\"./data/ar-test(SOHO)\")\n",
    "!mv data/ar-test\\(SOHO\\)/images data/ar-test\\(SOHO\\)/images-col\n",
    "!mv data/ar-test\\(SOHO\\)/images-gray data/ar-test\\(SOHO\\)/images\n",
    "\n",
    "convert_to_yolo(\"./data/ar-train(SOHO)\")\n",
    "remove_invalid_labels_with_images(\"./data/ar-train(SOHO)\")\n",
    "convert_to_grayscale(\"./data/ar-train(SOHO)\")\n",
    "!mv data/ar-train\\(SOHO\\)/images data/ar-train\\(SOHO\\)/images-col\n",
    "!mv data/ar-train\\(SOHO\\)/images-gray data/ar-train\\(SOHO\\)/images\n",
    "\n",
    "generate_val_set(\"data/ar-train(SOHO)\", \"data/ar-val(SOHO)\", 0.2)"
   ]
  }
 ],
 "metadata": {
  "kernelspec": {
   "display_name": "Python 3 (ipykernel)",
   "language": "python",
   "name": "python3"
  },
  "language_info": {
   "codemirror_mode": {
    "name": "ipython",
    "version": 3
   },
   "file_extension": ".py",
   "mimetype": "text/x-python",
   "name": "python",
   "nbconvert_exporter": "python",
   "pygments_lexer": "ipython3",
   "version": "3.10.10"
  }
 },
 "nbformat": 4,
 "nbformat_minor": 5
}
