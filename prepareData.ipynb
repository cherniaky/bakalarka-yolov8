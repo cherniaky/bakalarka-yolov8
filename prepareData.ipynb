{
 "cells": [
  {
   "cell_type": "code",
   "execution_count": 1,
   "metadata": {},
   "outputs": [
    {
     "name": "stdout",
     "output_type": "stream",
     "text": [
      "Requirement already satisfied: ultralytics in /home/deeplearningtitan/anaconda3/lib/python3.8/site-packages (8.0.203)\n",
      "Requirement already satisfied: matplotlib>=3.3.0 in /home/deeplearningtitan/.local/lib/python3.8/site-packages (from ultralytics) (3.7.1)\n",
      "Requirement already satisfied: numpy>=1.22.2 in /home/deeplearningtitan/anaconda3/lib/python3.8/site-packages (from ultralytics) (1.22.2)\n",
      "Requirement already satisfied: opencv-python>=4.6.0 in /home/deeplearningtitan/anaconda3/lib/python3.8/site-packages (from ultralytics) (4.8.1.78)\n",
      "Requirement already satisfied: pillow>=7.1.2 in /home/deeplearningtitan/anaconda3/lib/python3.8/site-packages (from ultralytics) (8.0.1)\n",
      "Requirement already satisfied: pyyaml>=5.3.1 in /home/deeplearningtitan/anaconda3/lib/python3.8/site-packages (from ultralytics) (5.3.1)\n",
      "Requirement already satisfied: requests>=2.23.0 in /home/deeplearningtitan/anaconda3/lib/python3.8/site-packages (from ultralytics) (2.24.0)\n",
      "Requirement already satisfied: scipy>=1.4.1 in /home/deeplearningtitan/.local/lib/python3.8/site-packages (from ultralytics) (1.10.1)\n",
      "Requirement already satisfied: torch>=1.8.0 in /home/deeplearningtitan/anaconda3/lib/python3.8/site-packages (from ultralytics) (2.1.0)\n",
      "Requirement already satisfied: torchvision>=0.9.0 in /home/deeplearningtitan/anaconda3/lib/python3.8/site-packages (from ultralytics) (0.16.0)\n",
      "Requirement already satisfied: tqdm>=4.64.0 in /home/deeplearningtitan/anaconda3/lib/python3.8/site-packages (from ultralytics) (4.66.1)\n",
      "Requirement already satisfied: pandas>=1.1.4 in /home/deeplearningtitan/anaconda3/lib/python3.8/site-packages (from ultralytics) (1.5.3)\n",
      "Requirement already satisfied: seaborn>=0.11.0 in /home/deeplearningtitan/anaconda3/lib/python3.8/site-packages (from ultralytics) (0.11.0)\n",
      "Requirement already satisfied: psutil in /home/deeplearningtitan/anaconda3/lib/python3.8/site-packages (from ultralytics) (5.7.2)\n",
      "Requirement already satisfied: py-cpuinfo in /home/deeplearningtitan/anaconda3/lib/python3.8/site-packages (from ultralytics) (9.0.0)\n",
      "Requirement already satisfied: thop>=0.1.1 in /home/deeplearningtitan/anaconda3/lib/python3.8/site-packages (from ultralytics) (0.1.1.post2209072238)\n",
      "Requirement already satisfied: contourpy>=1.0.1 in /home/deeplearningtitan/.local/lib/python3.8/site-packages (from matplotlib>=3.3.0->ultralytics) (1.0.7)\n",
      "Requirement already satisfied: cycler>=0.10 in /home/deeplearningtitan/.local/lib/python3.8/site-packages (from matplotlib>=3.3.0->ultralytics) (0.11.0)\n",
      "Requirement already satisfied: fonttools>=4.22.0 in /home/deeplearningtitan/.local/lib/python3.8/site-packages (from matplotlib>=3.3.0->ultralytics) (4.39.4)\n",
      "Requirement already satisfied: kiwisolver>=1.0.1 in /home/deeplearningtitan/.local/lib/python3.8/site-packages (from matplotlib>=3.3.0->ultralytics) (1.4.4)\n",
      "Requirement already satisfied: packaging>=20.0 in /home/deeplearningtitan/anaconda3/lib/python3.8/site-packages (from matplotlib>=3.3.0->ultralytics) (23.1)\n",
      "Requirement already satisfied: pyparsing>=2.3.1 in /home/deeplearningtitan/.local/lib/python3.8/site-packages (from matplotlib>=3.3.0->ultralytics) (3.0.9)\n",
      "Requirement already satisfied: python-dateutil>=2.7 in /home/deeplearningtitan/anaconda3/lib/python3.8/site-packages (from matplotlib>=3.3.0->ultralytics) (2.8.1)\n",
      "Requirement already satisfied: importlib-resources>=3.2.0 in /home/deeplearningtitan/.local/lib/python3.8/site-packages (from matplotlib>=3.3.0->ultralytics) (5.12.0)\n",
      "Requirement already satisfied: pytz>=2020.1 in /home/deeplearningtitan/anaconda3/lib/python3.8/site-packages (from pandas>=1.1.4->ultralytics) (2020.1)\n",
      "Requirement already satisfied: chardet<4,>=3.0.2 in /home/deeplearningtitan/anaconda3/lib/python3.8/site-packages (from requests>=2.23.0->ultralytics) (3.0.4)\n",
      "Requirement already satisfied: idna<3,>=2.5 in /home/deeplearningtitan/anaconda3/lib/python3.8/site-packages (from requests>=2.23.0->ultralytics) (2.10)\n",
      "Requirement already satisfied: urllib3!=1.25.0,!=1.25.1,<1.26,>=1.21.1 in /home/deeplearningtitan/anaconda3/lib/python3.8/site-packages (from requests>=2.23.0->ultralytics) (1.25.11)\n",
      "Requirement already satisfied: certifi>=2017.4.17 in /home/deeplearningtitan/anaconda3/lib/python3.8/site-packages (from requests>=2.23.0->ultralytics) (2020.6.20)\n",
      "Requirement already satisfied: filelock in /home/deeplearningtitan/anaconda3/lib/python3.8/site-packages (from torch>=1.8.0->ultralytics) (3.0.12)\n",
      "Requirement already satisfied: typing-extensions in /home/deeplearningtitan/.local/lib/python3.8/site-packages (from torch>=1.8.0->ultralytics) (4.5.0)\n",
      "Requirement already satisfied: sympy in /home/deeplearningtitan/anaconda3/lib/python3.8/site-packages (from torch>=1.8.0->ultralytics) (1.6.2)\n",
      "Requirement already satisfied: networkx in /home/deeplearningtitan/anaconda3/lib/python3.8/site-packages (from torch>=1.8.0->ultralytics) (2.5)\n",
      "Requirement already satisfied: jinja2 in /home/deeplearningtitan/anaconda3/lib/python3.8/site-packages (from torch>=1.8.0->ultralytics) (2.11.2)\n",
      "Requirement already satisfied: fsspec in /home/deeplearningtitan/anaconda3/lib/python3.8/site-packages (from torch>=1.8.0->ultralytics) (0.8.3)\n",
      "Requirement already satisfied: nvidia-cuda-nvrtc-cu12==12.1.105 in /home/deeplearningtitan/anaconda3/lib/python3.8/site-packages (from torch>=1.8.0->ultralytics) (12.1.105)\n",
      "Requirement already satisfied: nvidia-cuda-runtime-cu12==12.1.105 in /home/deeplearningtitan/anaconda3/lib/python3.8/site-packages (from torch>=1.8.0->ultralytics) (12.1.105)\n",
      "Requirement already satisfied: nvidia-cuda-cupti-cu12==12.1.105 in /home/deeplearningtitan/anaconda3/lib/python3.8/site-packages (from torch>=1.8.0->ultralytics) (12.1.105)\n",
      "Requirement already satisfied: nvidia-cudnn-cu12==8.9.2.26 in /home/deeplearningtitan/anaconda3/lib/python3.8/site-packages (from torch>=1.8.0->ultralytics) (8.9.2.26)\n",
      "Requirement already satisfied: nvidia-cublas-cu12==12.1.3.1 in /home/deeplearningtitan/anaconda3/lib/python3.8/site-packages (from torch>=1.8.0->ultralytics) (12.1.3.1)\n",
      "Requirement already satisfied: nvidia-cufft-cu12==11.0.2.54 in /home/deeplearningtitan/anaconda3/lib/python3.8/site-packages (from torch>=1.8.0->ultralytics) (11.0.2.54)\n",
      "Requirement already satisfied: nvidia-curand-cu12==10.3.2.106 in /home/deeplearningtitan/anaconda3/lib/python3.8/site-packages (from torch>=1.8.0->ultralytics) (10.3.2.106)\n",
      "Requirement already satisfied: nvidia-cusolver-cu12==11.4.5.107 in /home/deeplearningtitan/anaconda3/lib/python3.8/site-packages (from torch>=1.8.0->ultralytics) (11.4.5.107)\n",
      "Requirement already satisfied: nvidia-cusparse-cu12==12.1.0.106 in /home/deeplearningtitan/anaconda3/lib/python3.8/site-packages (from torch>=1.8.0->ultralytics) (12.1.0.106)\n",
      "Requirement already satisfied: nvidia-nccl-cu12==2.18.1 in /home/deeplearningtitan/anaconda3/lib/python3.8/site-packages (from torch>=1.8.0->ultralytics) (2.18.1)\n",
      "Requirement already satisfied: nvidia-nvtx-cu12==12.1.105 in /home/deeplearningtitan/anaconda3/lib/python3.8/site-packages (from torch>=1.8.0->ultralytics) (12.1.105)\n",
      "Requirement already satisfied: triton==2.1.0 in /home/deeplearningtitan/anaconda3/lib/python3.8/site-packages (from torch>=1.8.0->ultralytics) (2.1.0)\n",
      "Requirement already satisfied: nvidia-nvjitlink-cu12 in /home/deeplearningtitan/anaconda3/lib/python3.8/site-packages (from nvidia-cusolver-cu12==11.4.5.107->torch>=1.8.0->ultralytics) (12.3.52)\n",
      "Requirement already satisfied: zipp>=3.1.0 in /home/deeplearningtitan/.local/lib/python3.8/site-packages (from importlib-resources>=3.2.0->matplotlib>=3.3.0->ultralytics) (3.15.0)\n",
      "Requirement already satisfied: six>=1.5 in /home/deeplearningtitan/anaconda3/lib/python3.8/site-packages (from python-dateutil>=2.7->matplotlib>=3.3.0->ultralytics) (1.15.0)\n",
      "Requirement already satisfied: MarkupSafe>=0.23 in /home/deeplearningtitan/anaconda3/lib/python3.8/site-packages (from jinja2->torch>=1.8.0->ultralytics) (1.1.1)\n",
      "Requirement already satisfied: decorator>=4.3.0 in /home/deeplearningtitan/.local/lib/python3.8/site-packages (from networkx->torch>=1.8.0->ultralytics) (5.1.1)\n",
      "Requirement already satisfied: mpmath>=0.19 in /home/deeplearningtitan/anaconda3/lib/python3.8/site-packages (from sympy->torch>=1.8.0->ultralytics) (1.1.0)\n",
      "\u001b[33mDEPRECATION: pyodbc 4.0.0-unsupported has a non-standard version number. pip 24.0 will enforce this behaviour change. A possible replacement is to upgrade to a newer version of pyodbc or contact the author to suggest that they release a version with a conforming version number. Discussion can be found at https://github.com/pypa/pip/issues/12063\u001b[0m\u001b[33m\n",
      "\u001b[0m\u001b[33mWARNING: There was an error checking the latest version of pip.\u001b[0m\u001b[33m\n",
      "\u001b[0m"
     ]
    }
   ],
   "source": [
    "import numpy as np\n",
    "import cv2\n",
    "import os\n",
    "\n",
    "!pip install ultralytics"
   ]
  },
  {
   "cell_type": "code",
   "execution_count": 29,
   "metadata": {},
   "outputs": [],
   "source": [
    "!mkdir -p data/train\\(zooniverse\\)\n",
    "!mkdir -p data/train\\(region_growth\\)\n",
    "!mkdir -p data/val\\(spoca\\)\n",
    "!mkdir -p data/val\\(region\\)\n",
    "\n",
    "!cp -r scss-net/data/193_train/193\\(zooniverse\\)/imgs data/train\\(zooniverse\\)/images \n",
    "!cp -r scss-net/data/193_train/193\\(zooniverse\\)/masks data/train\\(zooniverse\\)/masks\n",
    "\n",
    "!cp -r scss-net/data/193_train/193\\(region_growth\\)/imgs data/train\\(region_growth\\)/images\n",
    "!cp -r scss-net/data/193_train/193\\(region_growth\\)/masks data/train\\(region_growth\\)/masks\n",
    "\n",
    "!cp -r scss-net/data/193_test/masks\\(spoca\\) data/val\\(spoca\\)/masks\n",
    "!cp -r scss-net/data/193_test/masks\\(region\\) data/val\\(region\\)/masks\n",
    "\n",
    "!cp -r scss-net/data/193_test/imgs data/val\\(spoca\\)/images\n",
    "!cp -r scss-net/data/193_test/imgs data/val\\(region\\)/images"
   ]
  },
  {
   "cell_type": "code",
   "execution_count": 8,
   "metadata": {},
   "outputs": [],
   "source": [
    "def create_contours(mask):\n",
    "    \n",
    "    width = mask.shape[1]\n",
    "    height = mask.shape[0]\n",
    "    # ret, thresh = cv2.threshold(mask, 127, 255, 0)\n",
    "    contours, _ = cv2.findContours(mask, cv2.RETR_TREE, cv2.CHAIN_APPROX_NONE)\n",
    "    \n",
    "    coords = []\n",
    "    for i, object in enumerate(contours):\n",
    "        coords.append([])\n",
    "        for point in object:\n",
    "            new_x = (int(point[0][0])) / (width)\n",
    "            new_y = (int(point[0][1])) / (height)\n",
    "            coords[i].append((new_x, new_y))\n",
    "    return coords"
   ]
  },
  {
   "cell_type": "code",
   "execution_count": 19,
   "metadata": {},
   "outputs": [],
   "source": [
    "def convert_to_yolo(folder_path):\n",
    "    masks_path = os.path.join(folder_path, 'masks')\n",
    "    os.mkdir(os.path.join(folder_path, 'labels'))\n",
    "    labels_path = os.path.join(folder_path, 'labels')\n",
    "\n",
    "    png_files = [file for file in os.listdir(masks_path) if file.endswith('.png')]\n",
    "\n",
    "    for png_file in png_files:\n",
    "        input_path = os.path.join(masks_path, png_file)\n",
    "\n",
    "        image_cv2 = cv2.imread(input_path, cv2.IMREAD_GRAYSCALE)\n",
    "\n",
    "        coords_of_objects = create_contours(image_cv2)\n",
    "    \n",
    "        txt_file = os.path.splitext(png_file)[0] + '.txt'\n",
    "        output_path = os.path.join(labels_path, txt_file)\n",
    "\n",
    "        with open(output_path, 'w') as label_file:\n",
    "            for i, object_coords in enumerate(coords_of_objects):\n",
    "                coordinates_str = ' '.join(map(str, np.reshape(object_coords, -1)))\n",
    "                string_to_write = f\"0 {coordinates_str}\"\n",
    "                if i < (len(coords_of_objects) - 1):\n",
    "                    string_to_write += \"\\n\"\n",
    "                label_file.write(string_to_write)"
   ]
  },
  {
   "cell_type": "code",
   "execution_count": 10,
   "metadata": {},
   "outputs": [
    {
     "name": "stdout",
     "output_type": "stream",
     "text": [
      "Requirement already satisfied: Pillow in /home/deeplearningtitan/anaconda3/lib/python3.8/site-packages (8.0.1)\n",
      "Collecting Pillow\n",
      "  Downloading Pillow-10.1.0-cp38-cp38-manylinux_2_28_x86_64.whl.metadata (9.5 kB)\n",
      "Downloading Pillow-10.1.0-cp38-cp38-manylinux_2_28_x86_64.whl (3.6 MB)\n",
      "\u001b[2K   \u001b[90m━━━━━━━━━━━━━━━━━━━━━━━━━━━━━━━━━━━━━━━━\u001b[0m \u001b[32m3.6/3.6 MB\u001b[0m \u001b[31m34.8 MB/s\u001b[0m eta \u001b[36m0:00:00\u001b[0ma \u001b[36m0:00:01\u001b[0m\n",
      "\u001b[?25h\u001b[33mDEPRECATION: pyodbc 4.0.0-unsupported has a non-standard version number. pip 24.0 will enforce this behaviour change. A possible replacement is to upgrade to a newer version of pyodbc or contact the author to suggest that they release a version with a conforming version number. Discussion can be found at https://github.com/pypa/pip/issues/12063\u001b[0m\u001b[33m\n",
      "\u001b[0mInstalling collected packages: Pillow\n",
      "  Attempting uninstall: Pillow\n",
      "    Found existing installation: Pillow 8.0.1\n",
      "    Uninstalling Pillow-8.0.1:\n",
      "      Successfully uninstalled Pillow-8.0.1\n",
      "\u001b[31mERROR: pip's dependency resolver does not currently take into account all the packages that are installed. This behaviour is the source of the following dependency conflicts.\n",
      "matrixprofile 1.1.10 requires protobuf==3.11.2, but you have protobuf 4.25.0 which is incompatible.\u001b[0m\u001b[31m\n",
      "\u001b[0mSuccessfully installed Pillow-10.1.0\n",
      "\u001b[33mWARNING: There was an error checking the latest version of pip.\u001b[0m\u001b[33m\n",
      "\u001b[0m"
     ]
    }
   ],
   "source": [
    "!python3 -m pip install --upgrade Pillow"
   ]
  },
  {
   "cell_type": "code",
   "execution_count": 11,
   "metadata": {},
   "outputs": [
    {
     "name": "stdout",
     "output_type": "stream",
     "text": [
      "Requirement already satisfied: opencv-python in /home/deeplearningtitan/anaconda3/lib/python3.8/site-packages (4.8.1.78)\n",
      "Requirement already satisfied: numpy>=1.17.0 in /home/deeplearningtitan/anaconda3/lib/python3.8/site-packages (from opencv-python) (1.22.2)\n",
      "\u001b[33mDEPRECATION: pyodbc 4.0.0-unsupported has a non-standard version number. pip 24.0 will enforce this behaviour change. A possible replacement is to upgrade to a newer version of pyodbc or contact the author to suggest that they release a version with a conforming version number. Discussion can be found at https://github.com/pypa/pip/issues/12063\u001b[0m\u001b[33m\n",
      "\u001b[0m\u001b[33mWARNING: There was an error checking the latest version of pip.\u001b[0m\u001b[33m\n",
      "\u001b[0m"
     ]
    }
   ],
   "source": [
    "!pip3 install opencv-python"
   ]
  },
  {
   "cell_type": "code",
   "execution_count": 38,
   "metadata": {},
   "outputs": [],
   "source": [
    "import cv2\n",
    "from PIL import Image\n",
    "\n",
    "def display_label(label_name):\n",
    "    image = cv2.imread(\"./data/train(region_growth)/images/\"+label_name+\".png\")\n",
    "\n",
    "    with open(\"./data/train(region_growth)/labels/\" + label_name + \".txt\", 'r') as f:\n",
    "        label = f.read()\n",
    "\n",
    "    label_elements = label.strip().split(' ')\n",
    "\n",
    "    coords = [(int(float(label_elements[i])*256), int(float(label_elements[i+1])*256)) for i in range(1, len(label_elements), 2)]\n",
    "   \n",
    "    for coord in coords:\n",
    "        cv2.circle(image, coord, radius=0, color=(255, 0, 0), thickness=-1)\n",
    "   \n",
    "    cv2.imwrite(\"./test.png\", image)\n"
   ]
  },
  {
   "cell_type": "code",
   "execution_count": 42,
   "metadata": {},
   "outputs": [],
   "source": [
    "import cv2\n",
    "   \n",
    "def convert_to_grayscale(folder_path):\n",
    "    images_path = os.path.join(folder_path, 'images')\n",
    "    grayscale_images_path = os.path.join(folder_path, 'images-gray')\n",
    "    os.makedirs(grayscale_images_path)\n",
    "    \n",
    "    png_files = [file for file in os.listdir(images_path) if file.endswith('.png')]\n",
    "    \n",
    "    for img_path in png_files:\n",
    "        image = cv2.imread(images_path + \"/\" + img_path)\n",
    "        gray_image = cv2.cvtColor(image, cv2.COLOR_BGR2GRAY) \n",
    "        cv2.imwrite(grayscale_images_path + \"/\" + img_path, gray_image)\n",
    "\n",
    "        \n",
    "        "
   ]
  },
  {
   "cell_type": "code",
   "execution_count": 43,
   "metadata": {},
   "outputs": [],
   "source": [
    "convert_to_grayscale(\"./data/train(region_growth)\")\n",
    "convert_to_grayscale(\"./data/val(region_growth)\")\n",
    "convert_to_grayscale(\"./data/test(region_growth)\")"
   ]
  },
  {
   "cell_type": "code",
   "execution_count": 14,
   "metadata": {},
   "outputs": [],
   "source": [
    "from pathlib import Path\n",
    "\n",
    "def remove_invalid_labels_with_images(data_path):\n",
    "    images_path = os.path.join(data_path, 'images')\n",
    "    labels_path = os.path.join(data_path, 'labels')\n",
    "\n",
    "    txt_files = [file for file in os.listdir(labels_path) if file.endswith('.txt')]\n",
    "    \n",
    "    for txt_file in txt_files:\n",
    "        with open(labels_path +\"/\"+ txt_file, 'r') as f:\n",
    "            label = f.read()\n",
    "            png_file = os.path.splitext(txt_file)[0] + '.png'\n",
    "            if(len(label.split()) < 5):\n",
    "                print(\"removing... \" + png_file)\n",
    "                Path(images_path+\"/\" + png_file).unlink()\n",
    "                print(\"removing... \" + txt_file)\n",
    "                Path(labels_path+\"/\" + txt_file).unlink()\n",
    "        \n",
    "            "
   ]
  },
  {
   "cell_type": "code",
   "execution_count": 30,
   "metadata": {},
   "outputs": [],
   "source": [
    "convert_to_yolo(\"./data/train(region_growth)\")\n",
    "convert_to_yolo(\"./data/test(region)\")"
   ]
  },
  {
   "cell_type": "code",
   "execution_count": 31,
   "metadata": {},
   "outputs": [],
   "source": [
    "# generate test set\n",
    "import math\n",
    "import os\n",
    "import random\n",
    "import shutil\n",
    "\n",
    "def move_files(paths_list, dst_directory):\n",
    "    for path in paths_list:\n",
    "        src_path = path\n",
    "        dst_path = os.path.join(dst_directory, os.path.basename(path))\n",
    "        shutil.copyfile(src_path, dst_path)\n",
    "        os.remove(src_path)\n",
    "\n",
    "# we have 7873 images in region train and 354 in region val\n",
    "test_num = math.floor(8227*0.1) # number of images in val set\n",
    "\n",
    "train_path = \"data/train(region_growth)\"\n",
    "test_path = \"data/val(region_growth)\"\n",
    "images_path = os.path.join(train_path, \"images\")\n",
    "test_images_path = os.path.join(test_path, \"images\")\n",
    "test_labels_path = os.path.join(test_path, \"labels\")\n",
    "test_masks_path = os.path.join(test_path, \"masks\")\n",
    "os.makedirs(test_images_path, exist_ok=True)\n",
    "os.makedirs(test_labels_path, exist_ok=True)\n",
    "os.makedirs(test_masks_path, exist_ok=True)\n",
    "\n",
    "image_paths = []\n",
    "for root, _, files in os.walk(images_path):\n",
    "    for file in files:\n",
    "        if file.endswith(\".png\"):\n",
    "            image_paths.append(os.path.join(root, file))\n",
    "\n",
    "random.shuffle(image_paths)\n",
    "\n",
    "test_images = image_paths[:test_num]\n",
    "test_labels = [path.replace(\"images\",\"labels\").replace(\"png\", \"txt\") for path in test_images]\n",
    "test_masks = [path.replace(\"images\",\"masks\") for path in test_images]\n",
    "\n",
    "move_files(test_images, test_images_path)\n",
    "move_files(test_labels, test_labels_path)\n",
    "move_files(test_masks, test_masks_path)"
   ]
  },
  {
   "cell_type": "code",
   "execution_count": 39,
   "metadata": {},
   "outputs": [],
   "source": [
    "display_label(\"2012_01_31__22_59_43_84__SDO_AIA_AIA_193\")"
   ]
  },
  {
   "cell_type": "code",
   "execution_count": null,
   "metadata": {},
   "outputs": [
    {
     "name": "stdout",
     "output_type": "stream",
     "text": [
      "TRANSFERRING ||######################################||(547/554 MB:  98.89 %) \u0000\r"
     ]
    }
   ],
   "source": [
    "# prepare SOHO test set\n",
    "# install mega-cmd https://mega.io/cmd#downloadapps\n",
    "import zipfile\n",
    "!mega-get https://mega.nz/folder/M9klWZxK#QbxQMxVMCMtXS6nNzCtE7A/file/o4Nk0D7I\n",
    "!mega-get https://mega.nz/folder/M9klWZxK#QbxQMxVMCMtXS6nNzCtE7A/file/5lEAwRjA\n",
    "    \n",
    "with zipfile.ZipFile(\"CH_test_imgs.zip\",\"r\") as zip_ref:\n",
    "    zip_ref.extractall(\"testSOHOimgs\")\n",
    "\n",
    "with zipfile.ZipFile(\"CH_test_masks.zip\",\"r\") as zip_ref:\n",
    "    zip_ref.extractall(\"testSOHOmasks\")"
   ]
  },
  {
   "cell_type": "code",
   "execution_count": 16,
   "metadata": {},
   "outputs": [],
   "source": [
    "!mkdir -p data/test\\(SOHO\\)\n",
    "!mv testSOHOimgs data/test\\(SOHO\\)\n",
    "!mv testSOHOmasks data/test\\(SOHO\\)"
   ]
  },
  {
   "cell_type": "code",
   "execution_count": 17,
   "metadata": {},
   "outputs": [],
   "source": [
    "!mv data/test\\(SOHO\\)/testSOHOimgs data/test\\(SOHO\\)/images\n",
    "!mv data/test\\(SOHO\\)/testSOHOmasks data/test\\(SOHO\\)/masks"
   ]
  }
 ],
 "metadata": {
  "kernelspec": {
   "display_name": "Python 3 (ipykernel)",
   "language": "python",
   "name": "python3"
  },
  "language_info": {
   "codemirror_mode": {
    "name": "ipython",
    "version": 3
   },
   "file_extension": ".py",
   "mimetype": "text/x-python",
   "name": "python",
   "nbconvert_exporter": "python",
   "pygments_lexer": "ipython3",
   "version": "3.8.5"
  }
 },
 "nbformat": 4,
 "nbformat_minor": 5
}
