{
 "cells": [
  {
   "cell_type": "code",
   "execution_count": 1,
   "id": "fa634ae1",
   "metadata": {},
   "outputs": [
    {
     "name": "stdout",
     "output_type": "stream",
     "text": [
      "Requirement already satisfied: ultralytics in /home/artipark/miniconda3/envs/TF1/lib/python3.7/site-packages (8.0.145)\n",
      "Requirement already satisfied: seaborn>=0.11.0 in /home/artipark/miniconda3/envs/TF1/lib/python3.7/site-packages (from ultralytics) (0.12.2)\n",
      "Requirement already satisfied: scipy>=1.4.1 in /home/artipark/miniconda3/envs/TF1/lib/python3.7/site-packages (from ultralytics) (1.7.3)\n",
      "Requirement already satisfied: pillow>=7.1.2 in /home/artipark/miniconda3/envs/TF1/lib/python3.7/site-packages (from ultralytics) (9.5.0)\n",
      "Requirement already satisfied: pandas>=1.1.4 in /home/artipark/miniconda3/envs/TF1/lib/python3.7/site-packages (from ultralytics) (1.3.5)\n",
      "Requirement already satisfied: torch>=1.7.0 in /home/artipark/miniconda3/envs/TF1/lib/python3.7/site-packages (from ultralytics) (1.13.1)\n",
      "Requirement already satisfied: torchvision>=0.8.1 in /home/artipark/miniconda3/envs/TF1/lib/python3.7/site-packages (from ultralytics) (0.14.1)\n",
      "Requirement already satisfied: tqdm>=4.64.0 in /home/artipark/miniconda3/envs/TF1/lib/python3.7/site-packages (from ultralytics) (4.66.1)\n",
      "Requirement already satisfied: matplotlib>=3.2.2 in /home/artipark/miniconda3/envs/TF1/lib/python3.7/site-packages (from ultralytics) (3.5.3)\n",
      "Requirement already satisfied: psutil in /home/artipark/miniconda3/envs/TF1/lib/python3.7/site-packages (from ultralytics) (5.9.0)\n",
      "Requirement already satisfied: py-cpuinfo in /home/artipark/miniconda3/envs/TF1/lib/python3.7/site-packages (from ultralytics) (9.0.0)\n",
      "Requirement already satisfied: requests>=2.23.0 in /home/artipark/miniconda3/envs/TF1/lib/python3.7/site-packages (from ultralytics) (2.28.1)\n",
      "Requirement already satisfied: pyyaml>=5.3.1 in /home/artipark/miniconda3/envs/TF1/lib/python3.7/site-packages (from ultralytics) (6.0.1)\n",
      "Requirement already satisfied: opencv-python>=4.6.0 in /home/artipark/miniconda3/envs/TF1/lib/python3.7/site-packages (from ultralytics) (4.8.1.78)\n",
      "Requirement already satisfied: kiwisolver>=1.0.1 in /home/artipark/miniconda3/envs/TF1/lib/python3.7/site-packages (from matplotlib>=3.2.2->ultralytics) (1.4.5)\n",
      "Requirement already satisfied: pyparsing>=2.2.1 in /home/artipark/miniconda3/envs/TF1/lib/python3.7/site-packages (from matplotlib>=3.2.2->ultralytics) (3.1.1)\n",
      "Requirement already satisfied: python-dateutil>=2.7 in /home/artipark/miniconda3/envs/TF1/lib/python3.7/site-packages (from matplotlib>=3.2.2->ultralytics) (2.8.2)\n",
      "Requirement already satisfied: cycler>=0.10 in /home/artipark/miniconda3/envs/TF1/lib/python3.7/site-packages (from matplotlib>=3.2.2->ultralytics) (0.11.0)\n",
      "Requirement already satisfied: numpy>=1.17 in /home/artipark/miniconda3/envs/TF1/lib/python3.7/site-packages (from matplotlib>=3.2.2->ultralytics) (1.21.6)\n",
      "Requirement already satisfied: packaging>=20.0 in /home/artipark/miniconda3/envs/TF1/lib/python3.7/site-packages (from matplotlib>=3.2.2->ultralytics) (22.0)\n",
      "Requirement already satisfied: fonttools>=4.22.0 in /home/artipark/miniconda3/envs/TF1/lib/python3.7/site-packages (from matplotlib>=3.2.2->ultralytics) (4.38.0)\n",
      "Requirement already satisfied: pytz>=2017.3 in /home/artipark/miniconda3/envs/TF1/lib/python3.7/site-packages (from pandas>=1.1.4->ultralytics) (2022.7)\n",
      "Requirement already satisfied: certifi>=2017.4.17 in /home/artipark/miniconda3/envs/TF1/lib/python3.7/site-packages (from requests>=2.23.0->ultralytics) (2022.12.7)\n",
      "Requirement already satisfied: idna<4,>=2.5 in /home/artipark/miniconda3/envs/TF1/lib/python3.7/site-packages (from requests>=2.23.0->ultralytics) (3.4)\n",
      "Requirement already satisfied: urllib3<1.27,>=1.21.1 in /home/artipark/miniconda3/envs/TF1/lib/python3.7/site-packages (from requests>=2.23.0->ultralytics) (1.26.14)\n",
      "Requirement already satisfied: charset-normalizer<3,>=2 in /home/artipark/miniconda3/envs/TF1/lib/python3.7/site-packages (from requests>=2.23.0->ultralytics) (2.0.4)\n",
      "Requirement already satisfied: typing_extensions in /home/artipark/miniconda3/envs/TF1/lib/python3.7/site-packages (from seaborn>=0.11.0->ultralytics) (4.4.0)\n",
      "Requirement already satisfied: nvidia-cuda-runtime-cu11==11.7.99 in /home/artipark/miniconda3/envs/TF1/lib/python3.7/site-packages (from torch>=1.7.0->ultralytics) (11.7.99)\n",
      "Requirement already satisfied: nvidia-cudnn-cu11==8.5.0.96 in /home/artipark/miniconda3/envs/TF1/lib/python3.7/site-packages (from torch>=1.7.0->ultralytics) (8.5.0.96)\n",
      "Requirement already satisfied: nvidia-cuda-nvrtc-cu11==11.7.99 in /home/artipark/miniconda3/envs/TF1/lib/python3.7/site-packages (from torch>=1.7.0->ultralytics) (11.7.99)\n",
      "Requirement already satisfied: nvidia-cublas-cu11==11.10.3.66 in /home/artipark/miniconda3/envs/TF1/lib/python3.7/site-packages (from torch>=1.7.0->ultralytics) (11.10.3.66)\n",
      "Requirement already satisfied: setuptools in /home/artipark/miniconda3/envs/TF1/lib/python3.7/site-packages (from nvidia-cublas-cu11==11.10.3.66->torch>=1.7.0->ultralytics) (65.6.3)\n",
      "Requirement already satisfied: wheel in /home/artipark/miniconda3/envs/TF1/lib/python3.7/site-packages (from nvidia-cublas-cu11==11.10.3.66->torch>=1.7.0->ultralytics) (0.38.4)\n",
      "Requirement already satisfied: six>=1.5 in /home/artipark/miniconda3/envs/TF1/lib/python3.7/site-packages (from python-dateutil>=2.7->matplotlib>=3.2.2->ultralytics) (1.16.0)\n",
      "Requirement already satisfied: opencv-python in /home/artipark/miniconda3/envs/TF1/lib/python3.7/site-packages (4.8.1.78)\n",
      "Requirement already satisfied: numpy>=1.17.0 in /home/artipark/miniconda3/envs/TF1/lib/python3.7/site-packages (from opencv-python) (1.21.6)\n",
      "Requirement already satisfied: Pillow in /home/artipark/miniconda3/envs/TF1/lib/python3.7/site-packages (9.5.0)\n",
      "Collecting mega.py\n",
      "  Downloading mega.py-1.0.8-py2.py3-none-any.whl (19 kB)\n",
      "Collecting pycryptodome<4.0.0,>=3.9.6\n",
      "  Downloading pycryptodome-3.20.0-cp35-abi3-manylinux_2_17_x86_64.manylinux2014_x86_64.whl (2.1 MB)\n",
      "\u001b[2K     \u001b[90m━━━━━━━━━━━━━━━━━━━━━━━━━━━━━━━━━━━━━━━━\u001b[0m \u001b[32m2.1/2.1 MB\u001b[0m \u001b[31m2.1 MB/s\u001b[0m eta \u001b[36m0:00:00\u001b[0m00:01\u001b[0m00:01\u001b[0m0m\n",
      "\u001b[?25hCollecting tenacity<6.0.0,>=5.1.5\n",
      "  Downloading tenacity-5.1.5-py2.py3-none-any.whl (34 kB)\n",
      "Collecting pathlib==1.0.1\n",
      "  Downloading pathlib-1.0.1-py3-none-any.whl (14 kB)\n",
      "Requirement already satisfied: requests>=0.10 in /home/artipark/miniconda3/envs/TF1/lib/python3.7/site-packages (from mega.py) (2.28.1)\n",
      "Requirement already satisfied: idna<4,>=2.5 in /home/artipark/miniconda3/envs/TF1/lib/python3.7/site-packages (from requests>=0.10->mega.py) (3.4)\n",
      "Requirement already satisfied: urllib3<1.27,>=1.21.1 in /home/artipark/miniconda3/envs/TF1/lib/python3.7/site-packages (from requests>=0.10->mega.py) (1.26.14)\n",
      "Requirement already satisfied: charset-normalizer<3,>=2 in /home/artipark/miniconda3/envs/TF1/lib/python3.7/site-packages (from requests>=0.10->mega.py) (2.0.4)\n",
      "Requirement already satisfied: certifi>=2017.4.17 in /home/artipark/miniconda3/envs/TF1/lib/python3.7/site-packages (from requests>=0.10->mega.py) (2022.12.7)\n",
      "Requirement already satisfied: six>=1.9.0 in /home/artipark/miniconda3/envs/TF1/lib/python3.7/site-packages (from tenacity<6.0.0,>=5.1.5->mega.py) (1.16.0)\n",
      "Installing collected packages: pathlib, tenacity, pycryptodome, mega.py\n",
      "Successfully installed mega.py-1.0.8 pathlib-1.0.1 pycryptodome-3.20.0 tenacity-5.1.5\n"
     ]
    }
   ],
   "source": [
    "!pip install ultralytics\n",
    "!pip3 install opencv-python\n",
    "!python3 -m pip install --upgrade Pillow\n",
    "!pip install mega.py\n",
    "\n",
    "import numpy as np\n",
    "import cv2\n",
    "import os\n",
    "\n"
   ]
  },
  {
   "cell_type": "code",
   "execution_count": 2,
   "id": "8f4b169d",
   "metadata": {},
   "outputs": [
    {
     "name": "stdout",
     "output_type": "stream",
     "text": [
      "Downloading ...\n",
      "DONE\n"
     ]
    }
   ],
   "source": [
    "from mega import Mega\n",
    "import zipfile\n",
    "\n",
    "mega = Mega()\n",
    "m = mega.login()\n",
    "print(\"Downloading ...\")\n",
    "try:\n",
    "    m.download_url('https://mega.nz/file/1Dg0iaAA#0ZRzdon9F7j0jiCjWHfUh-JNoxw5zfcmzceKrh_VySo')\n",
    "except PermissionError:\n",
    "    pass\n",
    "with zipfile.ZipFile(\"171.zip\",\"r\") as zip_ref:\n",
    "    zip_ref.extractall(\"scss-net-data\")\n",
    "# try:\n",
    "#     m.download_url('https://mega.nz/file/sOBGiTwR#fjvzvxoLDFDKLv8EtLPBGqPUCo_T_I7y8f14n4eGu94')\n",
    "# except PermissionError:\n",
    "#     pass\n",
    "# with zipfile.ZipFile(\"193.zip\",\"r\") as zip_ref:\n",
    "#     zip_ref.extractall(\"scss-net-data\")\n",
    "print(\"DONE\")"
   ]
  },
  {
   "cell_type": "code",
   "execution_count": 8,
   "id": "b8e8ba50",
   "metadata": {},
   "outputs": [],
   "source": [
    "# move ch data\n",
    "!mkdir -p data/ch-train\\(zooniverse\\)\n",
    "!mkdir -p data/ch-train\\(region_growth\\)\n",
    "!mkdir -p data/ch-test\\(spoca\\)\n",
    "!mkdir -p data/ch-test\\(region_growth\\)\n",
    "\n",
    "!cp -r scss-net-data/193_train/193\\(zooniverse\\)/imgs data/ch-train\\(zooniverse\\)/images \n",
    "!cp -r scss-net-data/193_train/193\\(zooniverse\\)/masks data/ch-train\\(zooniverse\\)/masks\n",
    "\n",
    "!cp -r scss-net-data/193_train/193\\(region_growth\\)/imgs data/ch-train\\(region_growth\\)/images\n",
    "!cp -r scss-net-data/193_train/193\\(region_growth\\)/masks data/ch-train\\(region_growth\\)/masks\n",
    "\n",
    "!cp -r scss-net-data/193_test/masks\\(spoca\\) data/ch-test\\(spoca\\)/masks\n",
    "!cp -r scss-net-data/193_test/masks\\(region\\) data/ch-test\\(region_growth\\)/masks\n",
    "\n",
    "!cp -r scss-net-data/193_test/imgs data/ch-test\\(spoca\\)/images\n",
    "!cp -r scss-net-data/193_test/imgs data/ch-test\\(region_growth\\)/images"
   ]
  },
  {
   "cell_type": "code",
   "execution_count": 3,
   "id": "cd04def9",
   "metadata": {},
   "outputs": [],
   "source": [
    "# move ar data\n",
    "!mkdir -p data/ar-train\n",
    "!mkdir -p data/ar-test\n",
    "\n",
    "!cp -r scss-net-data/171_train/171\\(spoca\\)/imgs/. data/ar-train/images \n",
    "!cp -r scss-net-data/171_train/171\\(spoca\\)/masks/. data/ar-train/masks\n",
    "\n",
    "!cp -r scss-net-data/171_train/171\\(zooniverse\\)/imgs/. data/ar-train/images\n",
    "!cp -r scss-net-data/171_train/171\\(zooniverse\\)/masks/. data/ar-train/masks\n",
    "\n",
    "!cp -r scss-net-data/171_test/imgs/. data/ar-test/images \n",
    "!cp -r scss-net-data/171_test/masks\\(spoca\\)/. data/ar-test/masks"
   ]
  },
  {
   "cell_type": "code",
   "execution_count": 4,
   "id": "e4cb2fa6",
   "metadata": {},
   "outputs": [],
   "source": [
    "def create_contours(mask):\n",
    "    \n",
    "    width = mask.shape[1]\n",
    "    height = mask.shape[0]\n",
    "    # ret, thresh = cv2.threshold(mask, 127, 255, 0)\n",
    "    contours, _ = cv2.findContours(mask, cv2.RETR_TREE, cv2.CHAIN_APPROX_NONE)\n",
    "    \n",
    "    coords = []\n",
    "    for i, object in enumerate(contours):\n",
    "        coords.append([])\n",
    "        for point in object:\n",
    "            new_x = (int(point[0][0])) / (width)\n",
    "            new_y = (int(point[0][1])) / (height)\n",
    "            coords[i].append((new_x, new_y))\n",
    "    return coords"
   ]
  },
  {
   "cell_type": "code",
   "execution_count": 5,
   "id": "8af6c1c2",
   "metadata": {},
   "outputs": [],
   "source": [
    "def convert_to_yolo(folder_path):\n",
    "    masks_path = os.path.join(folder_path, 'masks')\n",
    "    os.mkdir(os.path.join(folder_path, 'labels'))\n",
    "    labels_path = os.path.join(folder_path, 'labels')\n",
    "\n",
    "    png_files = [file for file in os.listdir(masks_path) if file.endswith('.png')]\n",
    "\n",
    "    for png_file in png_files:\n",
    "        input_path = os.path.join(masks_path, png_file)\n",
    "\n",
    "        image_cv2 = cv2.imread(input_path, cv2.IMREAD_GRAYSCALE)\n",
    "\n",
    "        coords_of_objects = create_contours(image_cv2)\n",
    "    \n",
    "        txt_file = os.path.splitext(png_file)[0] + '.txt'\n",
    "        output_path = os.path.join(labels_path, txt_file)\n",
    "\n",
    "        with open(output_path, 'w') as label_file:\n",
    "            for i, object_coords in enumerate(coords_of_objects):\n",
    "                coordinates_str = ' '.join(map(str, np.reshape(object_coords, -1)))\n",
    "                string_to_write = f\"0 {coordinates_str}\"\n",
    "                if i < (len(coords_of_objects) - 1):\n",
    "                    string_to_write += \"\\n\"\n",
    "                label_file.write(string_to_write)"
   ]
  },
  {
   "cell_type": "code",
   "execution_count": 6,
   "id": "13252976",
   "metadata": {},
   "outputs": [],
   "source": [
    "import cv2\n",
    "from PIL import Image\n",
    "\n",
    "def display_label(label_name):\n",
    "    image = cv2.imread(\"./data/train(region_growth)/images/\"+label_name+\".png\")\n",
    "\n",
    "    with open(\"./data/train(region_growth)/labels/\" + label_name + \".txt\", 'r') as f:\n",
    "        label = f.read()\n",
    "\n",
    "    label_elements = label.strip().split(' ')\n",
    "\n",
    "    coords = [(int(float(label_elements[i])*256), int(float(label_elements[i+1])*256)) for i in range(1, len(label_elements), 2)]\n",
    "   \n",
    "    for coord in coords:\n",
    "        cv2.circle(image, coord, radius=0, color=(255, 0, 0), thickness=-1)\n",
    "   \n",
    "    cv2.imwrite(\"./test.png\", image)\n"
   ]
  },
  {
   "cell_type": "code",
   "execution_count": 13,
   "id": "9a258e9a",
   "metadata": {},
   "outputs": [],
   "source": [
    "import cv2\n",
    "   \n",
    "def convert_to_grayscale(folder_path):\n",
    "    images_path = os.path.join(folder_path, 'images')\n",
    "    grayscale_images_path = os.path.join(folder_path, 'images-gray')\n",
    "    os.makedirs(grayscale_images_path)\n",
    "    \n",
    "    png_files = [file for file in os.listdir(images_path) if file.endswith('.png')]\n",
    "    \n",
    "    for img_path in png_files:\n",
    "        image = cv2.imread(images_path + \"/\" + img_path)\n",
    "        gray_image = cv2.cvtColor(image, cv2.COLOR_BGR2GRAY) \n",
    "        cv2.imwrite(grayscale_images_path + \"/\" + img_path, gray_image)\n",
    "\n",
    "        \n",
    "        "
   ]
  },
  {
   "cell_type": "code",
   "execution_count": 8,
   "id": "00be2929",
   "metadata": {},
   "outputs": [],
   "source": [
    "from pathlib import Path\n",
    "\n",
    "def remove_invalid_labels_with_images(data_path):\n",
    "    images_path = os.path.join(data_path, 'images')\n",
    "    labels_path = os.path.join(data_path, 'labels')\n",
    "\n",
    "    txt_files = [file for file in os.listdir(labels_path) if file.endswith('.txt')]\n",
    "    \n",
    "    for txt_file in txt_files:\n",
    "        with open(labels_path +\"/\"+ txt_file, 'r') as f:\n",
    "            label = f.read()\n",
    "            png_file = os.path.splitext(txt_file)[0] + '.png'\n",
    "            if(len(label.split()) < 5):\n",
    "                print(\"removing... \" + png_file)\n",
    "                Path(images_path+\"/\" + png_file).unlink()\n",
    "                print(\"removing... \" + txt_file)\n",
    "                Path(labels_path+\"/\" + txt_file).unlink()\n",
    "        \n",
    "            "
   ]
  },
  {
   "cell_type": "code",
   "execution_count": 9,
   "id": "7197d42a",
   "metadata": {},
   "outputs": [],
   "source": [
    "# convert_to_yolo(\"./data/ch-train(region_growth)\")\n",
    "# convert_to_yolo(\"./data/ch-test(region_growth)\")\n",
    "convert_to_yolo(\"./data/ar-train\")\n",
    "convert_to_yolo(\"./data/ar-test\")"
   ]
  },
  {
   "cell_type": "code",
   "execution_count": 10,
   "id": "879d2aa8",
   "metadata": {},
   "outputs": [
    {
     "name": "stdout",
     "output_type": "stream",
     "text": [
      "removing... 2016_09_06__22_59_46_35__SDO_AIA_AIA_171.png\n",
      "removing... 2016_09_06__22_59_46_35__SDO_AIA_AIA_171.txt\n",
      "removing... 2016_05_24__22_59_58_34__SDO_AIA_AIA_171.png\n",
      "removing... 2016_05_24__22_59_58_34__SDO_AIA_AIA_171.txt\n",
      "removing... 2016_05_03__23_00_10_34__SDO_AIA_AIA_171.png\n",
      "removing... 2016_05_03__23_00_10_34__SDO_AIA_AIA_171.txt\n",
      "removing... 2016_08_02__11_30_46_34__SDO_AIA_AIA_171.png\n",
      "removing... 2016_08_02__11_30_46_34__SDO_AIA_AIA_171.txt\n"
     ]
    }
   ],
   "source": [
    "# remove_invalid_labels_with_images(\"./data/ch-train(region_growth)\")\n",
    "# remove_invalid_labels_with_images(\"./data/ch-test(region_growth)\")\n",
    "remove_invalid_labels_with_images(\"./data/ar-train\")\n",
    "remove_invalid_labels_with_images(\"./data/ar-test\")"
   ]
  },
  {
   "cell_type": "code",
   "execution_count": 11,
   "id": "e4aeb9e1",
   "metadata": {},
   "outputs": [],
   "source": [
    "import math\n",
    "import os\n",
    "import random\n",
    "import shutil\n",
    "\n",
    "def move_files(paths_list, dst_directory):\n",
    "    for path in paths_list:\n",
    "        src_path = path\n",
    "        dst_path = os.path.join(dst_directory, os.path.basename(path))\n",
    "        shutil.copyfile(src_path, dst_path)\n",
    "        os.remove(src_path)\n",
    "\n",
    "\n",
    "def generate_val_set(train_path, val_path):\n",
    "    images_path = os.path.join(train_path, \"images\")\n",
    "    test_images_path = os.path.join(val_path, \"images\")\n",
    "    test_labels_path = os.path.join(val_path, \"labels\")\n",
    "    test_masks_path = os.path.join(val_path, \"masks\")\n",
    "    os.makedirs(test_images_path, exist_ok=True)\n",
    "    os.makedirs(test_labels_path, exist_ok=True)\n",
    "    os.makedirs(test_masks_path, exist_ok=True)\n",
    "\n",
    "    image_paths = []\n",
    "    for root, _, files in os.walk(images_path):\n",
    "        for file in files:\n",
    "            if file.endswith(\".png\"):\n",
    "                image_paths.append(os.path.join(root, file))\n",
    "\n",
    "    random.shuffle(image_paths)\n",
    "\n",
    "    test_num = math.floor(len(image_paths)*0.1)\n",
    "    test_images = image_paths[:test_num]\n",
    "    test_labels = [path.replace(\"images\",\"labels\").replace(\"png\", \"txt\") for path in test_images]\n",
    "    test_masks = [path.replace(\"images\",\"masks\") for path in test_images]\n",
    "\n",
    "    move_files(test_images, test_images_path)\n",
    "    move_files(test_labels, test_labels_path)\n",
    "    move_files(test_masks, test_masks_path)"
   ]
  },
  {
   "cell_type": "code",
   "execution_count": 12,
   "id": "646423e8",
   "metadata": {},
   "outputs": [],
   "source": [
    "# generate_val_set(\"data/ch-train(region_growth)\", \"data/ch-val(region_growth)\")\n",
    "generate_val_set(\"data/ar-train\", \"data/ar-val\")"
   ]
  },
  {
   "cell_type": "code",
   "execution_count": 14,
   "id": "fd22536f-6c5f-42d9-9bd7-172fa9c7b3af",
   "metadata": {},
   "outputs": [],
   "source": [
    "convert_to_grayscale(\"./data/ar-train\")\n",
    "convert_to_grayscale(\"./data/ar-test\")\n",
    "convert_to_grayscale(\"./data/ar-val\")"
   ]
  },
  {
   "cell_type": "code",
   "execution_count": null,
   "id": "f71aebe5",
   "metadata": {},
   "outputs": [],
   "source": [
    "# prepare SOHO test set\n",
    "# install mega-cmd https://mega.io/cmd#downloadapps\n",
    "import zipfile\n",
    "!mega-get https://mega.nz/folder/M9klWZxK#QbxQMxVMCMtXS6nNzCtE7A/file/o4Nk0D7I\n",
    "!mega-get https://mega.nz/folder/M9klWZxK#QbxQMxVMCMtXS6nNzCtE7A/file/5lEAwRjA\n",
    "    "
   ]
  },
  {
   "cell_type": "code",
   "execution_count": 3,
   "id": "e94e6bff",
   "metadata": {},
   "outputs": [
    {
     "ename": "OSError",
     "evalue": "[Errno 28] No space left on device",
     "output_type": "error",
     "traceback": [
      "\u001b[0;31m---------------------------------------------------------------------------\u001b[0m",
      "\u001b[0;31mOSError\u001b[0m                                   Traceback (most recent call last)",
      "Cell \u001b[0;32mIn[3], line 2\u001b[0m\n\u001b[1;32m      1\u001b[0m \u001b[38;5;28;01mwith\u001b[39;00m zipfile\u001b[38;5;241m.\u001b[39mZipFile(\u001b[38;5;124m\"\u001b[39m\u001b[38;5;124mCH_test_imgs.zip\u001b[39m\u001b[38;5;124m\"\u001b[39m,\u001b[38;5;124m\"\u001b[39m\u001b[38;5;124mr\u001b[39m\u001b[38;5;124m\"\u001b[39m) \u001b[38;5;28;01mas\u001b[39;00m zip_ref:\n\u001b[0;32m----> 2\u001b[0m     \u001b[43mzip_ref\u001b[49m\u001b[38;5;241;43m.\u001b[39;49m\u001b[43mextractall\u001b[49m\u001b[43m(\u001b[49m\u001b[38;5;124;43m\"\u001b[39;49m\u001b[38;5;124;43mtestSOHOimgs\u001b[39;49m\u001b[38;5;124;43m\"\u001b[39;49m\u001b[43m)\u001b[49m\n\u001b[1;32m      4\u001b[0m \u001b[38;5;28;01mwith\u001b[39;00m zipfile\u001b[38;5;241m.\u001b[39mZipFile(\u001b[38;5;124m\"\u001b[39m\u001b[38;5;124mCH_test_masks.zip\u001b[39m\u001b[38;5;124m\"\u001b[39m,\u001b[38;5;124m\"\u001b[39m\u001b[38;5;124mr\u001b[39m\u001b[38;5;124m\"\u001b[39m) \u001b[38;5;28;01mas\u001b[39;00m zip_ref:\n\u001b[1;32m      5\u001b[0m     zip_ref\u001b[38;5;241m.\u001b[39mextractall(\u001b[38;5;124m\"\u001b[39m\u001b[38;5;124mtestSOHOmasks\u001b[39m\u001b[38;5;124m\"\u001b[39m)\n",
      "File \u001b[0;32m~/anaconda3/lib/python3.8/zipfile.py:1647\u001b[0m, in \u001b[0;36mZipFile.extractall\u001b[0;34m(self, path, members, pwd)\u001b[0m\n\u001b[1;32m   1644\u001b[0m     path \u001b[38;5;241m=\u001b[39m os\u001b[38;5;241m.\u001b[39mfspath(path)\n\u001b[1;32m   1646\u001b[0m \u001b[38;5;28;01mfor\u001b[39;00m zipinfo \u001b[38;5;129;01min\u001b[39;00m members:\n\u001b[0;32m-> 1647\u001b[0m     \u001b[38;5;28;43mself\u001b[39;49m\u001b[38;5;241;43m.\u001b[39;49m\u001b[43m_extract_member\u001b[49m\u001b[43m(\u001b[49m\u001b[43mzipinfo\u001b[49m\u001b[43m,\u001b[49m\u001b[43m \u001b[49m\u001b[43mpath\u001b[49m\u001b[43m,\u001b[49m\u001b[43m \u001b[49m\u001b[43mpwd\u001b[49m\u001b[43m)\u001b[49m\n",
      "File \u001b[0;32m~/anaconda3/lib/python3.8/zipfile.py:1702\u001b[0m, in \u001b[0;36mZipFile._extract_member\u001b[0;34m(self, member, targetpath, pwd)\u001b[0m\n\u001b[1;32m   1698\u001b[0m     \u001b[38;5;28;01mreturn\u001b[39;00m targetpath\n\u001b[1;32m   1700\u001b[0m \u001b[38;5;28;01mwith\u001b[39;00m \u001b[38;5;28mself\u001b[39m\u001b[38;5;241m.\u001b[39mopen(member, pwd\u001b[38;5;241m=\u001b[39mpwd) \u001b[38;5;28;01mas\u001b[39;00m source, \\\n\u001b[1;32m   1701\u001b[0m      \u001b[38;5;28mopen\u001b[39m(targetpath, \u001b[38;5;124m\"\u001b[39m\u001b[38;5;124mwb\u001b[39m\u001b[38;5;124m\"\u001b[39m) \u001b[38;5;28;01mas\u001b[39;00m target:\n\u001b[0;32m-> 1702\u001b[0m     \u001b[43mshutil\u001b[49m\u001b[38;5;241;43m.\u001b[39;49m\u001b[43mcopyfileobj\u001b[49m\u001b[43m(\u001b[49m\u001b[43msource\u001b[49m\u001b[43m,\u001b[49m\u001b[43m \u001b[49m\u001b[43mtarget\u001b[49m\u001b[43m)\u001b[49m\n\u001b[1;32m   1704\u001b[0m \u001b[38;5;28;01mreturn\u001b[39;00m targetpath\n",
      "File \u001b[0;32m~/anaconda3/lib/python3.8/shutil.py:205\u001b[0m, in \u001b[0;36mcopyfileobj\u001b[0;34m(fsrc, fdst, length)\u001b[0m\n\u001b[1;32m    203\u001b[0m \u001b[38;5;28;01mif\u001b[39;00m \u001b[38;5;129;01mnot\u001b[39;00m buf:\n\u001b[1;32m    204\u001b[0m     \u001b[38;5;28;01mbreak\u001b[39;00m\n\u001b[0;32m--> 205\u001b[0m \u001b[43mfdst_write\u001b[49m\u001b[43m(\u001b[49m\u001b[43mbuf\u001b[49m\u001b[43m)\u001b[49m\n",
      "\u001b[0;31mOSError\u001b[0m: [Errno 28] No space left on device"
     ]
    }
   ],
   "source": [
    "!mkdir -p data/ch-test\\(SOHO\\)\n",
    "with zipfile.ZipFile(\"CH_test_imgs.zip\",\"r\") as zip_ref:\n",
    "    zip_ref.extractall(\"data/ch-test(SOHO)/images\")\n",
    "    \n",
    "with zipfile.ZipFile(\"CH_test_masks.zip\",\"r\") as zip_ref:\n",
    "    zip_ref.extractall(\"data/ch-test(SOHO)/masks\")\n",
    "\n",
    "convert_to_yolo(\"./data/ch-test(SOHO)\")\n",
    "remove_invalid_labels_with_images(\"./data/ch-test(SOHO)\")"
   ]
  }
 ],
 "metadata": {
  "kernelspec": {
   "display_name": "Python 3 (ipykernel)",
   "language": "python",
   "name": "python3"
  },
  "language_info": {
   "codemirror_mode": {
    "name": "ipython",
    "version": 3
   },
   "file_extension": ".py",
   "mimetype": "text/x-python",
   "name": "python",
   "nbconvert_exporter": "python",
   "pygments_lexer": "ipython3",
   "version": "3.7.16"
  }
 },
 "nbformat": 4,
 "nbformat_minor": 5
}
